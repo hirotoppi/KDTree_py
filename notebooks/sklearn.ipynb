{
 "cells": [
  {
   "cell_type": "code",
   "execution_count": 37,
   "id": "7ac2bf21-7b6b-403e-bc0b-aa601b6c79f1",
   "metadata": {},
   "outputs": [],
   "source": [
    "import numpy as np\n",
    "from sklearn.neighbors import KDTree\n",
    "import matplotlib.pyplot as plt\n",
    "from anytree import Node, RenderTree"
   ]
  },
  {
   "cell_type": "code",
   "execution_count": 172,
   "id": "dc194806-f312-4c68-8979-e9175e4cb9c5",
   "metadata": {},
   "outputs": [
    {
     "name": "stdout",
     "output_type": "stream",
     "text": [
      "[[35 19 16 23 12 99 56 66 20  3 81 44 38 42 74 37 40 27  4 51]\n",
      " [22 37 35 30  7 88 88 15 10 19 77 56 18 71 60 24 32 39 16 52]]\n"
     ]
    },
    {
     "data": {
      "text/plain": [
       "<matplotlib.collections.PathCollection at 0x7f7a942252b0>"
      ]
     },
     "execution_count": 172,
     "metadata": {},
     "output_type": "execute_result"
    },
    {
     "data": {
      "image/png": "[encoded data removed]",
      "text/plain": [
       "<Figure size 640x480 with 1 Axes>"
      ]
     },
     "metadata": {},
     "output_type": "display_data"
    }
   ],
   "source": [
    "X = np.random.randint(0, 100, size=[2, 20])\n",
    "#X = np.array([[-1, -1], [-2, -1], [-2, -2], [-3, -2], [1, 1], [2, 1], [3, 2], [3, 4], [4, 4], [4, 5]])\n",
    "print(X)\n",
    "plt.scatter(X[0, :], X[1, :])"
   ]
  },
  {
   "cell_type": "code",
   "execution_count": 181,
   "id": "fdba307e-daa5-4717-abb1-54c1882be431",
   "metadata": {},
   "outputs": [],
   "source": [
    "tree = KDTree(X, leaf_size = 30, metric = \"euclidean\")"
   ]
  },
  {
   "cell_type": "code",
   "execution_count": 182,
   "id": "1e0e1799-30c4-4f9a-989d-fcb583d43e76",
   "metadata": {},
   "outputs": [
    {
     "name": "stdout",
     "output_type": "stream",
     "text": [
      "{'idx_start': 0, 'idx_end': 2, 'is_leaf': 1, 'radius': 42.27587964785594}\n"
     ]
    }
   ],
   "source": [
    "print(*tree.node_data)"
   ]
  },
  {
   "cell_type": "code",
   "execution_count": null,
   "id": "92453d7d-d7d1-4aa2-93cf-8d8881ab788d",
   "metadata": {},
   "outputs": [],
   "source": []
  },
  {
   "cell_type": "code",
   "execution_count": 183,
   "id": "d19f52b5-fa30-4faf-8c89-40868299fd20",
   "metadata": {},
   "outputs": [
    {
     "data": {
      "text/plain": [
       "array([[0, 1],\n",
       "       [1, 0]])"
      ]
     },
     "execution_count": 183,
     "metadata": {},
     "output_type": "execute_result"
    }
   ],
   "source": [
    "tree.query(X, k = 2, return_distance = False)"
   ]
  },
  {
   "cell_type": "code",
   "execution_count": 184,
   "id": "0c7b1b6d-d362-48d7-b5ed-5a6dd35653ab",
   "metadata": {},
   "outputs": [
    {
     "data": {
      "text/plain": [
       "(array([[35., 19., 16., 23., 12., 99., 56., 66., 20.,  3., 81., 44., 38.,\n",
       "         42., 74., 37., 40., 27.,  4., 51.],\n",
       "        [22., 37., 35., 30.,  7., 88., 88., 15., 10., 19., 77., 56., 18.,\n",
       "         71., 60., 24., 32., 39., 16., 52.]]),\n",
       " array([0, 1]),\n",
       " array([(0, 2, 1, 42.27587965)],\n",
       "       dtype=[('idx_start', '<i8'), ('idx_end', '<i8'), ('is_leaf', '<i8'), ('radius', '<f8')]),\n",
       " array([[[22., 19., 16., 23.,  7., 88., 56., 15., 10.,  3., 77., 44.,\n",
       "          18., 42., 60., 24., 32., 27.,  4., 51.]],\n",
       " \n",
       "        [[35., 37., 35., 30., 12., 99., 88., 66., 20., 19., 81., 56.,\n",
       "          38., 71., 74., 37., 40., 39., 16., 52.]]]))"
      ]
     },
     "execution_count": 184,
     "metadata": {},
     "output_type": "execute_result"
    }
   ],
   "source": [
    "tree.get_arrays()"
   ]
  },
  {
   "cell_type": "code",
   "execution_count": 186,
   "id": "1f1f1c56-3c30-49b8-9dac-684d12b74f5e",
   "metadata": {},
   "outputs": [
    {
     "ename": "IndexError",
     "evalue": "Out of bounds on buffer access (axis 0)",
     "output_type": "error",
     "traceback": [
      "\u001b[0;31m---------------------------------------------------------------------------\u001b[0m",
      "\u001b[0;31mIndexError\u001b[0m                                Traceback (most recent call last)",
      "Cell \u001b[0;32mIn [186], line 1\u001b[0m\n\u001b[0;32m----> 1\u001b[0m \u001b[43mtree\u001b[49m\u001b[38;5;241;43m.\u001b[39;49m\u001b[43mnode_data\u001b[49m\u001b[43m[\u001b[49m\u001b[38;5;241;43m1\u001b[39;49m\u001b[43m]\u001b[49m\n",
      "File \u001b[0;32mstringsource:415\u001b[0m, in \u001b[0;36mView.MemoryView.memoryview.__getitem__\u001b[0;34m()\u001b[0m\n",
      "File \u001b[0;32mstringsource:400\u001b[0m, in \u001b[0;36mView.MemoryView.memoryview.get_item_pointer\u001b[0;34m()\u001b[0m\n",
      "File \u001b[0;32mstringsource:933\u001b[0m, in \u001b[0;36mView.MemoryView.pybuffer_index\u001b[0;34m()\u001b[0m\n",
      "\u001b[0;31mIndexError\u001b[0m: Out of bounds on buffer access (axis 0)"
     ]
    }
   ],
   "source": [
    "tree.node_data[1]"
   ]
  },
  {
   "cell_type": "code",
   "execution_count": 52,
   "id": "20b85df3-3f45-4044-a333-c41c0ca6afbf",
   "metadata": {},
   "outputs": [
    {
     "name": "stdout",
     "output_type": "stream",
     "text": [
      "Node('/0')\n"
     ]
    }
   ],
   "source": []
  },
  {
   "cell_type": "code",
   "execution_count": null,
   "id": "4537ab85-b3f3-4289-aa32-95d93a6783b9",
   "metadata": {},
   "outputs": [],
   "source": []
  },
  {
   "cell_type": "code",
   "execution_count": null,
   "id": "8f897014-4111-4423-8001-04d5a5f64f4e",
   "metadata": {},
   "outputs": [],
   "source": []
  },
  {
   "cell_type": "code",
   "execution_count": null,
   "id": "3b9ede5d-35b8-44c0-beed-7e6b93452fdb",
   "metadata": {},
   "outputs": [],
   "source": []
  }
 ],
 "metadata": {
  "kernelspec": {
   "display_name": "Python 3 (ipykernel)",
   "language": "python",
   "name": "python3"
  },
  "language_info": {
   "codemirror_mode": {
    "name": "ipython",
    "version": 3
   },
   "file_extension": ".py",
   "mimetype": "text/x-python",
   "name": "python",
   "nbconvert_exporter": "python",
   "pygments_lexer": "ipython3",
   "version": "3.8.10"
  }
 },
 "nbformat": 4,
 "nbformat_minor": 5
}
