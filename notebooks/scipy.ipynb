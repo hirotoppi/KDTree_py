{
 "cells": [
  {
   "cell_type": "code",
   "execution_count": 12,
   "id": "21474a90-3d8e-4693-affb-5a5d6175c271",
   "metadata": {},
   "outputs": [],
   "source": [
    "import scipy.spatial as ss                                      \n",
    "from random import random\n",
    "import numpy as np"
   ]
  },
  {
   "cell_type": "markdown",
   "id": "b424d4e5",
   "metadata": {},
   "source": [
    "## Scipyにあるkd-treeに関する勉強\n",
    "scipyには、\n",
    "- KDtree\n",
    "- cKDtree\n",
    "の2種類のclassがある\n",
    "\n",
    "\n",
    "Document(https://docs.scipy.org/doc/scipy/reference/generated/scipy.spatial.cKDTree.html)では、\n",
    "scipy>1.6ならKDtreeを推奨している。\n",
    "> cKDTree is functionally identical to KDTree. Prior to SciPy v1.6.0, cKDTree had better performance and slightly different functionality but now the two names exist only for backward-compatibility reasons. If compatibility with SciPy < 1.6 is not a concern, prefer KDTree.\n",
    "\n",
    "\n",
    "KDtreeとcKDtreeの違いとして、AttributesのTreeの有無がある。（cKDtreeはAttributeにTreeがある）\n",
    "> This attribute exposes a Python view of the root node in the cKDTree object. A full Python view of the kd-tree is created dynamically on the first access. This attribute allows you to create your own query functions in Python.\n"
   ]
  },
  {
   "cell_type": "code",
   "execution_count": 88,
   "id": "f2a693d7",
   "metadata": {},
   "outputs": [],
   "source": [
    "# データ数\n",
    "N = 100\n",
    "# (x座標, y座標)のデータリスト\n",
    "#data = [[random()*100, random()*100] for _ in range(N)]\n",
    "data = np.random.random_sample((100, 2))\n",
    "\n",
    "# kd tree の作成 (leafsizeは展開をしない節内点数上限)\n",
    "kdtree = ss.KDTree(data, leafsize=4)\n",
    "ckdtree = ss.cKDTree(data, leafsize=4)\n"
   ]
  },
  {
   "cell_type": "code",
   "execution_count": 89,
   "id": "60d40976",
   "metadata": {},
   "outputs": [
    {
     "name": "stdout",
     "output_type": "stream",
     "text": [
      "[[0.25781579 0.579786  ]\n",
      " [0.88863851 0.81774819]\n",
      " [0.20972705 0.68871841]\n",
      " [0.99761541 0.96888661]\n",
      " [0.46494361 0.35824066]\n",
      " [0.41592432 0.23344529]\n",
      " [0.10354479 0.61013521]\n",
      " [0.95940116 0.38732709]\n",
      " [0.85384361 0.16124074]\n",
      " [0.33065921 0.41503257]\n",
      " [0.92301567 0.82486442]\n",
      " [0.54432591 0.29842056]\n",
      " [0.47194449 0.2744068 ]\n",
      " [0.14224529 0.39984751]\n",
      " [0.31097982 0.75543295]\n",
      " [0.96017972 0.35501992]\n",
      " [0.32488032 0.94326526]\n",
      " [0.50663079 0.32906622]\n",
      " [0.0235579  0.15364896]\n",
      " [0.13789655 0.64872372]\n",
      " [0.28725011 0.3677602 ]\n",
      " [0.84808906 0.60345214]\n",
      " [0.84556204 0.58449429]\n",
      " [0.30706134 0.27190902]\n",
      " [0.56641088 0.19619399]\n",
      " [0.54681618 0.63032143]\n",
      " [0.30339768 0.98296189]\n",
      " [0.71361983 0.15178931]\n",
      " [0.10105661 0.78466235]\n",
      " [0.35983002 0.22806322]\n",
      " [0.90162159 0.72399463]\n",
      " [0.06073845 0.38388323]\n",
      " [0.10114765 0.96900163]\n",
      " [0.58181614 0.77634516]\n",
      " [0.00416921 0.62908552]\n",
      " [0.23636394 0.42709077]\n",
      " [0.88766008 0.93149906]\n",
      " [0.95985697 0.97447258]\n",
      " [0.62790047 0.76748609]\n",
      " [0.57903839 0.61754792]\n",
      " [0.69209544 0.85845362]\n",
      " [0.69591564 0.83658499]\n",
      " [0.72680786 0.18635754]\n",
      " [0.55170444 0.24408365]\n",
      " [0.41865142 0.40691347]\n",
      " [0.95889411 0.79027557]\n",
      " [0.98884931 0.09346135]\n",
      " [0.62592931 0.28867264]\n",
      " [0.55195237 0.02778241]\n",
      " [0.07729271 0.97687651]\n",
      " [0.99557685 0.18672471]\n",
      " [0.82061377 0.41389415]\n",
      " [0.00142865 0.39943512]\n",
      " [0.07214415 0.90256095]\n",
      " [0.01248318 0.36567689]\n",
      " [0.63119365 0.87256937]\n",
      " [0.99471454 0.87659243]\n",
      " [0.99776751 0.06765116]\n",
      " [0.72174319 0.90538983]\n",
      " [0.57998349 0.58995117]\n",
      " [0.55750679 0.64850053]\n",
      " [0.95131645 0.5682399 ]\n",
      " [0.23665757 0.3935222 ]\n",
      " [0.03318127 0.54126812]\n",
      " [0.40045148 0.27290826]\n",
      " [0.9976533  0.5789668 ]\n",
      " [0.96520528 0.10816682]\n",
      " [0.74133335 0.11200679]\n",
      " [0.23984768 0.20180819]\n",
      " [0.68371571 0.66261182]\n",
      " [0.76785192 0.71812043]\n",
      " [0.15869923 0.142459  ]\n",
      " [0.15190873 0.42358352]\n",
      " [0.04486171 0.45585764]\n",
      " [0.9950064  0.56583488]\n",
      " [0.31315575 0.86564262]\n",
      " [0.6349923  0.08529825]\n",
      " [0.68727983 0.28014568]\n",
      " [0.48868578 0.96437486]\n",
      " [0.76161805 0.64397595]\n",
      " [0.7582015  0.47065519]\n",
      " [0.85232465 0.77426682]\n",
      " [0.52723439 0.75643829]\n",
      " [0.46047719 0.88877161]\n",
      " [0.87592718 0.77369542]\n",
      " [0.71038343 0.3387886 ]\n",
      " [0.7105834  0.49391217]\n",
      " [0.30735455 0.1340312 ]\n",
      " [0.34778632 0.08703926]\n",
      " [0.20590393 0.49562347]\n",
      " [0.2531626  0.00353386]\n",
      " [0.60214839 0.1889382 ]\n",
      " [0.90683239 0.7689491 ]\n",
      " [0.11118444 0.09943208]\n",
      " [0.91645631 0.38942035]\n",
      " [0.90584738 0.90851203]\n",
      " [0.14508738 0.44162905]\n",
      " [0.58717927 0.87007144]\n",
      " [0.13461801 0.60235763]\n",
      " [0.29244471 0.81485628]]\n"
     ]
    }
   ],
   "source": [
    "print(data)"
   ]
  },
  {
   "cell_type": "code",
   "execution_count": 90,
   "id": "64d4bacd",
   "metadata": {},
   "outputs": [
    {
     "data": {
      "text/plain": [
       "array([93, 18, 71, 68, 90, 23, 31, 54, 52, 13, 62, 20, 29, 87, 88,  5, 43,\n",
       "       48, 44,  9, 64,  4, 12, 17, 11, 98, 63, 73,  6, 34, 19, 72, 96, 89,\n",
       "       35,  0, 25, 28,  2, 99, 53, 32, 49, 75, 14, 82, 83, 16, 26, 78, 42,\n",
       "       27, 76, 91, 24, 77,  8, 67, 66, 46, 50, 57, 51, 47, 85, 80, 86, 59,\n",
       "       94, 15,  7, 74, 61, 65, 22, 39, 60, 38, 69, 79, 70, 97, 33, 55, 40,\n",
       "       58, 41, 92, 21, 30, 84, 81, 45, 10,  1, 56, 95, 37, 36,  3])"
      ]
     },
     "execution_count": 90,
     "metadata": {},
     "output_type": "execute_result"
    }
   ],
   "source": [
    "kdtree.indices"
   ]
  },
  {
   "cell_type": "code",
   "execution_count": 91,
   "id": "7e704f84-cf59-4baa-aad0-84e71c99ee2d",
   "metadata": {},
   "outputs": [
    {
     "data": {
      "text/plain": [
       "array([93, 18, 71, 68, 90, 23, 31, 54, 52, 13, 62, 20, 29, 87, 88,  5, 43,\n",
       "       48, 44,  9, 64,  4, 12, 17, 11, 98, 63, 73,  6, 34, 19, 72, 96, 89,\n",
       "       35,  0, 25, 28,  2, 99, 53, 32, 49, 75, 14, 82, 83, 16, 26, 78, 42,\n",
       "       27, 76, 91, 24, 77,  8, 67, 66, 46, 50, 57, 51, 47, 85, 80, 86, 59,\n",
       "       94, 15,  7, 74, 61, 65, 22, 39, 60, 38, 69, 79, 70, 97, 33, 55, 40,\n",
       "       58, 41, 92, 21, 30, 84, 81, 45, 10,  1, 56, 95, 37, 36,  3])"
      ]
     },
     "execution_count": 91,
     "metadata": {},
     "output_type": "execute_result"
    }
   ],
   "source": [
    "ckdtree.tree.indices"
   ]
  },
  {
   "cell_type": "code",
   "execution_count": 92,
   "id": "4e75bfea",
   "metadata": {},
   "outputs": [
    {
     "name": "stdout",
     "output_type": "stream",
     "text": [
      "idx = 0: (array([35]),)\n",
      "[0.23984768 0.20180819]\n"
     ]
    }
   ],
   "source": [
    "indicies_array = kdtree.indices\n",
    "print(f\"idx = 0: {np.where(indicies_array == 0)}\")\n",
    "print(data[68])"
   ]
  },
  {
   "cell_type": "code",
   "execution_count": 93,
   "id": "87b0da89",
   "metadata": {},
   "outputs": [
    {
     "name": "stdout",
     "output_type": "stream",
     "text": [
      "[0.55472958 0.5184458 ]\n",
      "[0.4188009  0.85319335 0.44922273 0.98325101 0.41159213 0.32468481\n",
      " 0.35684    0.67336412 0.50754218 0.37284589 0.87394004 0.42137324\n",
      " 0.37317564 0.2710464  0.53320639 0.65759982 0.63407279 0.41784851\n",
      " 0.08860343 0.39331014 0.32750516 0.7257706  0.71502817 0.28948518\n",
      " 0.38130244 0.58856881 0.64317979 0.43270457 0.44285948 0.29394662\n",
      " 0.81280811 0.22231084 0.53507464 0.67908065 0.31662737 0.33172735\n",
      " 0.90957957 0.96716478 0.69769328 0.59829316 0.77527453 0.76625032\n",
      " 0.4565827  0.39789405 0.41278245 0.87458484 0.54115533 0.45730097\n",
      " 0.28986739 0.52708461 0.59115078 0.61725396 0.20043189 0.48735255\n",
      " 0.18908003 0.75188151 0.93565348 0.53270933 0.81356651 0.58496733\n",
      " 0.60300366 0.75977818 0.31508988 0.2872247  0.33667987 0.78831005\n",
      " 0.53668605 0.42667007 0.22082793 0.67316377 0.74298618 0.15057911\n",
      " 0.28774613 0.25035967 0.78042064 0.58939918 0.36014527 0.48371276\n",
      " 0.72653032 0.702797   0.61442835 0.81329573 0.64183634 0.6746244\n",
      " 0.8248113  0.52458602 0.60224779 0.22069288 0.21741279 0.3507637\n",
      " 0.12834823 0.3955433  0.83789074 0.10530826 0.65293833 0.90717971\n",
      " 0.29335822 0.72862535 0.36848782 0.55365049]\n"
     ]
    }
   ],
   "source": [
    "print(np.median(data, axis = 0))\n",
    "print(np.median(data, axis = 1))"
   ]
  },
  {
   "cell_type": "code",
   "execution_count": 94,
   "id": "b1d6b775",
   "metadata": {},
   "outputs": [
    {
     "name": "stdout",
     "output_type": "stream",
     "text": [
      "0.5547295812981091\n",
      "0.5184457970651759\n"
     ]
    }
   ],
   "source": [
    "data_x = data[:, 0]\n",
    "data_y = data[:, 1]\n",
    "\n",
    "print(np.median(data_x))\n",
    "print(np.median(data_y))"
   ]
  },
  {
   "cell_type": "code",
   "execution_count": 95,
   "id": "116c2997",
   "metadata": {},
   "outputs": [
    {
     "ename": "TypeError",
     "evalue": "getter() takes exactly one argument (0 given)",
     "output_type": "error",
     "traceback": [
      "\u001b[0;31m---------------------------------------------------------------------------\u001b[0m",
      "\u001b[0;31mTypeError\u001b[0m                                 Traceback (most recent call last)",
      "Cell \u001b[0;32mIn [95], line 1\u001b[0m\n\u001b[0;32m----> 1\u001b[0m \u001b[38;5;28mprint\u001b[39m(\u001b[43mkdtree\u001b[49m\u001b[38;5;241;43m.\u001b[39;49m\u001b[43minnernode\u001b[49m\u001b[38;5;241;43m.\u001b[39;49m\u001b[43mchildren\u001b[49m\u001b[38;5;241;43m.\u001b[39;49m\u001b[43mgetter\u001b[49m\u001b[43m(\u001b[49m\u001b[43m)\u001b[49m)\n",
      "\u001b[0;31mTypeError\u001b[0m: getter() takes exactly one argument (0 given)"
     ]
    }
   ],
   "source": [
    "print(kdtree.innernode.children.getter())"
   ]
  },
  {
   "cell_type": "code",
   "execution_count": 96,
   "id": "59cade57-1503-4e9d-aa9f-57dfbfd63580",
   "metadata": {},
   "outputs": [
    {
     "data": {
      "text/plain": [
       "Text(0.5, 0.98, '$k$d-tree Example')"
      ]
     },
     "execution_count": 96,
     "metadata": {},
     "output_type": "execute_result"
    },
    {
     "data": {
      "image/png": "[encoded data removed]",
      "text/plain": [
       "<Figure size 500x500 with 4 Axes>"
      ]
     },
     "metadata": {},
     "output_type": "display_data"
    }
   ],
   "source": [
    "# Author: Jake VanderPlas\n",
    "# License: BSD\n",
    "#   The figure produced by this code is published in the textbook\n",
    "#   \"Statistics, Data Mining, and Machine Learning in Astronomy\" (2013)\n",
    "#   For more information, see http://astroML.github.com\n",
    "#   To report a bug or issue, use the following forum:\n",
    "#    https://groups.google.com/forum/#!forum/astroml-general\n",
    "import numpy as np\n",
    "from matplotlib import pyplot as plt\n",
    "\n",
    "#----------------------------------------------------------------------\n",
    "# This function adjusts matplotlib settings for a uniform feel in the textbook.\n",
    "# Note that with usetex=True, fonts are rendered with LaTeX.  This may\n",
    "# result in an error if LaTeX is not installed on your system.  In that case,\n",
    "# you can set usetex to False.\n",
    "# if \"setup_text_plots\" not in globals():\n",
    "#     from astroML.plotting import setup_text_plots\n",
    "# setup_text_plots(fontsize=8, usetex=True)\n",
    "\n",
    "\n",
    "# We'll create a KDTree class which will recursively subdivide the\n",
    "# space into rectangular regions.  Note that this is just an example\n",
    "# and shouldn't be used for real computation; instead use the optimized\n",
    "# code in scipy.spatial.cKDTree or sklearn.neighbors.BallTree\n",
    "class KDTree:\n",
    "    \"\"\"Simple KD tree class\"\"\"\n",
    "\n",
    "    # class initialization function\n",
    "    def __init__(self, data, mins, maxs):\n",
    "        self.data = np.asarray(data)\n",
    "\n",
    "        # data should be two-dimensional\n",
    "        assert self.data.shape[1] == 2\n",
    "\n",
    "        if mins is None:\n",
    "            mins = data.min(0)\n",
    "        if maxs is None:\n",
    "            maxs = data.max(0)\n",
    "\n",
    "        self.mins = np.asarray(mins)\n",
    "        self.maxs = np.asarray(maxs)\n",
    "        self.sizes = self.maxs - self.mins\n",
    "\n",
    "        self.child1 = None\n",
    "        self.child2 = None\n",
    "\n",
    "        if len(data) > 1:\n",
    "            # sort on the dimension with the largest spread\n",
    "            largest_dim = np.argmax(self.sizes)\n",
    "            i_sort = np.argsort(self.data[:, largest_dim])\n",
    "            self.data[:] = self.data[i_sort, :]\n",
    "\n",
    "            # find split point\n",
    "            N = self.data.shape[0]\n",
    "            half_N = int(N / 2)\n",
    "            split_point = 0.5 * (self.data[half_N, largest_dim]\n",
    "                                 + self.data[half_N - 1, largest_dim])\n",
    "\n",
    "            # create subnodes\n",
    "            mins1 = self.mins.copy()\n",
    "            mins1[largest_dim] = split_point\n",
    "            maxs2 = self.maxs.copy()\n",
    "            maxs2[largest_dim] = split_point\n",
    "\n",
    "            # Recursively build a KD-tree on each sub-node\n",
    "            self.child1 = KDTree(self.data[half_N:], mins1, self.maxs)\n",
    "            self.child2 = KDTree(self.data[:half_N], self.mins, maxs2)\n",
    "\n",
    "    def draw_rectangle(self, ax, depth=None):\n",
    "        \"\"\"Recursively plot a visualization of the KD tree region\"\"\"\n",
    "        if depth == 0:\n",
    "            rect = plt.Rectangle(self.mins, *self.sizes, ec='k', fc='none')\n",
    "            ax.add_patch(rect)\n",
    "\n",
    "        if self.child1 is not None:\n",
    "            if depth is None:\n",
    "                self.child1.draw_rectangle(ax)\n",
    "                self.child2.draw_rectangle(ax)\n",
    "            elif depth > 0:\n",
    "                self.child1.draw_rectangle(ax, depth - 1)\n",
    "                self.child2.draw_rectangle(ax, depth - 1)\n",
    "\n",
    "\n",
    "#------------------------------------------------------------\n",
    "# Create a set of structured random points in two dimensions\n",
    "np.random.seed(0)\n",
    "\n",
    "X = np.random.random((100, 2)) * 2 - 1\n",
    "X[:, 1] *= 0.1\n",
    "X[:, 1] += X[:, 0] ** 2\n",
    "\n",
    "#------------------------------------------------------------\n",
    "# Use our KD Tree class to recursively divide the space\n",
    "KDT = KDTree(X, [-1.1, -0.1], [1.1, 1.1])\n",
    "\n",
    "#------------------------------------------------------------\n",
    "# Plot four different levels of the KD tree\n",
    "fig = plt.figure(figsize=(5, 5))\n",
    "fig.subplots_adjust(wspace=0.1, hspace=0.15,\n",
    "                    left=0.1, right=0.9,\n",
    "                    bottom=0.05, top=0.9)\n",
    "\n",
    "for level in range(1, 5):\n",
    "    ax = fig.add_subplot(2, 2, level, xticks=[], yticks=[])\n",
    "    ax.scatter(X[:, 0], X[:, 1], s=9)\n",
    "    KDT.draw_rectangle(ax, depth=level - 1)\n",
    "\n",
    "    ax.set_xlim(-1.2, 1.2)\n",
    "    ax.set_ylim(-0.15, 1.15)\n",
    "    ax.set_title('level %i' % level)\n",
    "\n",
    "# suptitle() adds a title to the entire figure\n",
    "fig.suptitle('$k$d-tree Example')\n"
   ]
  },
  {
   "cell_type": "code",
   "execution_count": 97,
   "id": "b0d7d40f-2091-4d79-bfcb-43c5b8f98a8d",
   "metadata": {},
   "outputs": [
    {
     "name": "stdout",
     "output_type": "stream",
     "text": [
      "(100, 2)\n"
     ]
    }
   ],
   "source": [
    "print(X.shape)"
   ]
  },
  {
   "cell_type": "code",
   "execution_count": null,
   "id": "20279981-ebcb-4c50-b30e-a6ae20e6dbb8",
   "metadata": {},
   "outputs": [],
   "source": []
  }
 ],
 "metadata": {
  "kernelspec": {
   "display_name": "Python 3 (ipykernel)",
   "language": "python",
   "name": "python3"
  },
  "language_info": {
   "codemirror_mode": {
    "name": "ipython",
    "version": 3
   },
   "file_extension": ".py",
   "mimetype": "text/x-python",
   "name": "python",
   "nbconvert_exporter": "python",
   "pygments_lexer": "ipython3",
   "version": "3.8.10"
  }
 },
 "nbformat": 4,
 "nbformat_minor": 5
}
